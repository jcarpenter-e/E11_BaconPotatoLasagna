{
 "cells": [
  {
   "cell_type": "code",
   "execution_count": 1,
   "id": "fe2beca9-7094-4a12-a011-3acba04c746d",
   "metadata": {},
   "outputs": [],
   "source": [
    "import pandas as pd\n",
    "import numpy as np\n",
    "import csv\n",
    "import matplotlib.pyplot as plt"
   ]
  },
  {
   "cell_type": "code",
   "execution_count": null,
   "id": "8063b2f5-db78-4335-848d-ecc977c47426",
   "metadata": {},
   "outputs": [],
   "source": [
    "InsideData = pd.read_csv(\".csv\")\n",
    "InsideData"
   ]
  },
  {
   "cell_type": "code",
   "execution_count": null,
   "id": "451a2e95-addf-4edd-96d0-f414e4e7673d",
   "metadata": {},
   "outputs": [],
   "source": [
    "OutsideData = pd.read_csv(\".csv\")\n",
    "OutsideData"
   ]
  },
  {
   "cell_type": "code",
   "execution_count": null,
   "id": "e24f45da-4f06-4f02-ac34-9080f1a36ac4",
   "metadata": {},
   "outputs": [],
   "source": [
    "fig, linplt = plt.subplots(4, 2, figsize=(20, 10))\n",
    "linplt[0,0].hist(OutsideData[\"Temperature\"],alpha = 0.5)\n",
    "linplt[0,0].hist(InsideData[\"Temperature\"], alpha = 0.5)\n",
    "linplt[0,0].set_title(\"Temperature\")\n",
    "\n",
    "linplt[0,1].hist(OutsideData[\"Gas\"], alpha = 0.5)\n",
    "linplt[0,1].hist(InsideData[\"Gas\"], alpha = 0.5)\n",
    "linplt[0,1].set_title(\"Gas\")\n",
    "\n",
    "\n",
    "linplt[1,0].hist(OutsideData[\"Humidity\"], alpha = 0.5)\n",
    "linplt[1,0].hist(InsideData[\"Humidity\"], alpha = 0.5)\n",
    "linplt[1,0].set_title(\"Humidity\")\n",
    "\n",
    "linplt[1,1].hist(OutsideData[\"Pressure\"], alpha = 0.5)\n",
    "linplt[1,1].hist(InsideData[\"Pressure\"], alpha = 0.5)\n",
    "linplt[1,1].set_title(\"Pressure\")\n",
    "\n",
    "linplt[2,0].hist(InsideData[\"PM 1.0 Standard Conc.\"])\n",
    "linplt[2,0].hist(OutsideData[\"PM 1.0 Standard Conc.\"])\n",
    "linplt[2,0].set_title(\"PM 1.0\")\n",
    "\n",
    "linplt[2,1].hist(OutsideData[\"PM 2.5 Standard Conc.\"])\n",
    "linplt[2,1].hist(InsideData[\"PM 2.5 Standard Conc.\"])\n",
    "linplt[2,1].set_title(\"PM 2.5\")\n",
    "\n",
    "linplt[3,0].hist(InsideData[\"PM 10 Standard Conc.\"])\n",
    "linplt[3,0].hist(OutsideData[\"PM 10 Standard Conc.\"])\n",
    "linplt[3,0].set_title(\"PM 10\")"
   ]
  }
 ],
 "metadata": {
  "kernelspec": {
   "display_name": "Python [conda env:base] *",
   "language": "python",
   "name": "conda-base-py"
  },
  "language_info": {
   "codemirror_mode": {
    "name": "ipython",
    "version": 3
   },
   "file_extension": ".py",
   "mimetype": "text/x-python",
   "name": "python",
   "nbconvert_exporter": "python",
   "pygments_lexer": "ipython3",
   "version": "3.12.7"
  }
 },
 "nbformat": 4,
 "nbformat_minor": 5
}
